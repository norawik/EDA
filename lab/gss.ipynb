{
  "cells": [
    {
      "cell_type": "markdown",
      "metadata": {
        "id": "LM3KEJbK0eGC"
      },
      "source": [
        "## EDA LAB - Nora Wiktorowicz -\n",
        "Working in a group with Dean Chenzaie: mtk7hg@virginia.edu\n",
        "\n",
        "The General Social Survey (GSS) is a bi-annual nationally representative survey of Americans, with almost 7000 different questions asked since the survey began in the 1970s. It has straightforward questions about respondents' demographic information, but also questions like \"Does your job regularly require you to perform repetitive or forceful hand movements or involve awkward postures?\" or \"How often do the demands of your job interfere with your family life?\" There are a variety of controversial questions. No matter what you're curious about, there's something interesting in here to check out. The codebook is 904 pages (use CTRL+F to search it).\n",
        "\n",
        "The data and codebook are available at:\n",
        "https://gss.norc.org/us/en/gss/get-the-data.html\n",
        "\n",
        "The datasets are so large that it might make sense to pick the variables you want, and then download just those variables from:\n",
        "https://gssdataexplorer.norc.org/variables/vfilter\n",
        "\n",
        "Here is your task:\n",
        "1. Download a small (5-15) set of variables of interest.\n",
        "2. Write a short description of the data you chose, and why. (1 page)\n",
        "3. Load the data using Pandas. Clean them up for EDA. Do this in a notebook with comments or markdown chunks explaining your choices.\n",
        "4. Produce some numeric summaries and visualizations. (1-3 pages)\n",
        "5. Describe your findings in 1-2 pages.\n",
        "6. If you have other content that you think absolutely must be included, you can include it in an appendix of any length.\n",
        "\n",
        "For example, you might want to look at how aspects of a person's childhood family are correlated or not with their career or family choices as an adult. Or how political or religious affiliations correlate with drug use or sexual practices. It's an extremely wide-ranging survey.\n",
        "\n",
        "Feel free to work with other people in groups, and ask questions!"
      ]
    },
    {
      "cell_type": "code",
      "source": [
        "# imports\n",
        "import requests\n",
        "import urllib.request\n",
        "import json\n",
        "import numpy as np\n",
        "import pandas as pd\n",
        "import matplotlib.pyplot as plt\n",
        "import seaborn as sns"
      ],
      "metadata": {
        "id": "-CEg7gBYQT30"
      },
      "execution_count": null,
      "outputs": []
    },
    {
      "cell_type": "markdown",
      "source": [
        "# **1. Download a small (5-15) set of variables of interest.**"
      ],
      "metadata": {
        "id": "xxLieodsQrKe"
      }
    },
    {
      "cell_type": "code",
      "source": [
        "df = pd.read_parquet('https://github.com/DS3001/project_gss/raw/main/gss_chunk_1.parquet')\n",
        "df = pd.read_parquet('https://github.com/DS3001/project_gss/raw/main/gss_chunk_2.parquet')\n",
        "df = pd.read_parquet('https://github.com/DS3001/project_gss/raw/main/gss_chunk_3.parquet')\n"
      ],
      "metadata": {
        "id": "tiwctN44QMo7"
      },
      "execution_count": 16,
      "outputs": []
    },
    {
      "cell_type": "code",
      "source": [
        "var_list = ['papres16', 'mapres10', 'degree', 'rincome', 'hrs2', 'marital', 'agewed', 'padeg', 'madeg'] # List of variables you want to save\n",
        "output_variables = 'selected_gss_data.csv' # Name of the file you want to save the data to\n",
        "phase = 0 # Starts in write mode; after one iteration of loop, switches to append mode\n",
        "\n",
        "for k in range(3): # for each chunk of the data\n",
        "    url = 'https://github.com/DS3001/project_gss/raw/main/gss_chunk_' + str(1+k) + '.parquet' # Create url to the chunk to be processed\n",
        "    print(url) # Check the url is correct\n",
        "    df = pd.read_parquet(url) # Download this chunk of data\n",
        "    print(df.head()) # Visually inspect the first few rows\n",
        "    if phase == 0 :\n",
        "        df.loc[:,var_list].to_csv(output_filename, # specifies target file to save the chunk to\n",
        "                                mode='w', # control write versus append\n",
        "                                header=var_list, # variable names\n",
        "                                index=False) # no row index saved\n",
        "        phase = 1 # Switch from write mode to append mode\n",
        "    elif phase == 1 :\n",
        "        df.loc[:,var_list].to_csv(output_filename, # specifies target file to save the chunk to\n",
        "                                mode='a', # control write versus append\n",
        "                                header=None, # variable names\n",
        "                                index=False) # no row index saved\n",
        "        phase = 1 # Switch from write mode to append mode"
      ],
      "metadata": {
        "id": "gvQb0D4VRjG9",
        "outputId": "1481327b-d842-469f-8e43-e579ae50668d",
        "colab": {
          "base_uri": "https://localhost:8080/"
        }
      },
      "execution_count": 24,
      "outputs": [
        {
          "output_type": "stream",
          "name": "stdout",
          "text": [
            "https://github.com/DS3001/project_gss/raw/main/gss_chunk_1.parquet\n",
            "   year  id            wrkstat  hrs1  hrs2 evwork    occ  prestige  \\\n",
            "0  1972   1  working full time   NaN   NaN    NaN  205.0      50.0   \n",
            "1  1972   2            retired   NaN   NaN    yes  441.0      45.0   \n",
            "2  1972   3  working part time   NaN   NaN    NaN  270.0      44.0   \n",
            "3  1972   4  working full time   NaN   NaN    NaN    1.0      57.0   \n",
            "4  1972   5      keeping house   NaN   NaN    yes  385.0      40.0   \n",
            "\n",
            "         wrkslf wrkgovt  ...  agehef12 agehef13 agehef14  hompoph wtssps_nea  \\\n",
            "0  someone else     NaN  ...       NaN      NaN      NaN      NaN        NaN   \n",
            "1  someone else     NaN  ...       NaN      NaN      NaN      NaN        NaN   \n",
            "2  someone else     NaN  ...       NaN      NaN      NaN      NaN        NaN   \n",
            "3  someone else     NaN  ...       NaN      NaN      NaN      NaN        NaN   \n",
            "4  someone else     NaN  ...       NaN      NaN      NaN      NaN        NaN   \n",
            "\n",
            "   wtssnrps_nea  wtssps_next wtssnrps_next wtsscomp wtsscompnr  \n",
            "0           NaN          NaN           NaN   0.4446        NaN  \n",
            "1           NaN          NaN           NaN   0.8893        NaN  \n",
            "2           NaN          NaN           NaN   0.8893        NaN  \n",
            "3           NaN          NaN           NaN   0.8893        NaN  \n",
            "4           NaN          NaN           NaN   0.8893        NaN  \n",
            "\n",
            "[5 rows x 6694 columns]\n",
            "https://github.com/DS3001/project_gss/raw/main/gss_chunk_2.parquet\n",
            "   year   id            wrkstat  hrs1  hrs2 evwork    occ  prestige  \\\n",
            "0  1989  775            retired   NaN   NaN    yes  540.0      36.0   \n",
            "1  1989  776  working full time  40.0   NaN    NaN  925.0      36.0   \n",
            "2  1989  777            retired   NaN   NaN    yes   80.0      61.0   \n",
            "3  1989  778  working full time  44.0   NaN    NaN  912.0      26.0   \n",
            "4  1989  779            retired   NaN   NaN    yes  690.0      32.0   \n",
            "\n",
            "         wrkslf wrkgovt  ...  agehef12 agehef13 agehef14  hompoph wtssps_nea  \\\n",
            "0  someone else     NaN  ...       NaN      NaN      NaN      NaN        NaN   \n",
            "1  someone else     NaN  ...       NaN      NaN      NaN      NaN        NaN   \n",
            "2  someone else     NaN  ...       NaN      NaN      NaN      NaN        NaN   \n",
            "3  someone else     NaN  ...       NaN      NaN      NaN      NaN        NaN   \n",
            "4  someone else     NaN  ...       NaN      NaN      NaN      NaN        NaN   \n",
            "\n",
            "   wtssnrps_nea  wtssps_next wtssnrps_next  wtsscomp wtsscompnr  \n",
            "0           NaN          NaN           NaN  1.295069        NaN  \n",
            "1           NaN          NaN           NaN  0.483624        NaN  \n",
            "2           NaN          NaN           NaN  0.407988        NaN  \n",
            "3           NaN          NaN           NaN  1.225988        NaN  \n",
            "4           NaN          NaN           NaN  0.504302        NaN  \n",
            "\n",
            "[5 rows x 6694 columns]\n",
            "https://github.com/DS3001/project_gss/raw/main/gss_chunk_3.parquet\n",
            "   year    id            wrkstat  hrs1  hrs2 evwork  occ  prestige  \\\n",
            "0  2006  1751  working full time  40.0   NaN    NaN  NaN       NaN   \n",
            "1  2006  1752          in school   NaN   NaN    yes  NaN       NaN   \n",
            "2  2006  1753  working full time  35.0   NaN    NaN  NaN       NaN   \n",
            "3  2006  1754  working full time  50.0   NaN    NaN  NaN       NaN   \n",
            "4  2006  1755  working full time  40.0   NaN    NaN  NaN       NaN   \n",
            "\n",
            "         wrkslf     wrkgovt  ...  agehef12 agehef13 agehef14  hompoph  \\\n",
            "0  someone else  government  ...       NaN      NaN      NaN      NaN   \n",
            "1  someone else     private  ...       NaN      NaN      NaN      NaN   \n",
            "2  someone else  government  ...       NaN      NaN      NaN      NaN   \n",
            "3  someone else  government  ...       NaN      NaN      NaN      NaN   \n",
            "4  someone else     private  ...       NaN      NaN      NaN      NaN   \n",
            "\n",
            "  wtssps_nea  wtssnrps_nea  wtssps_next wtssnrps_next  wtsscomp wtsscompnr  \n",
            "0        NaN           NaN          NaN           NaN  1.079141   0.961150  \n",
            "1        NaN           NaN          NaN           NaN  7.673834   6.641571  \n",
            "2        NaN           NaN          NaN           NaN  0.584663   0.512145  \n",
            "3        NaN           NaN          NaN           NaN  0.715731   0.637592  \n",
            "4        NaN           NaN          NaN           NaN  1.094831   0.956094  \n",
            "\n",
            "[5 rows x 6694 columns]\n"
          ]
        }
      ]
    },
    {
      "cell_type": "markdown",
      "source": [
        "# **2. Write a short description of the data you chose, and why. (1 page)**"
      ],
      "metadata": {
        "id": "1xWWJuEhQwnF"
      }
    },
    {
      "cell_type": "markdown",
      "source": [
        "We selected the variables [papres16, mapres16, degree, rincome, hrs2, marital, agewed, padeg, madeg] in order to investigate how the circumstances of an individual’s parents may affect their lifestyle. I first became interested in exploring this topic while attending UVA, a prestigious university, where I noticed that a disproportionate number of students hailed from a wealthy background. It’s not difficult to imagine why that is, considering they probably had access to many more resources, but considering that the US has historically been revered as a meritocratic society–hence the American Dream–I wanted to conversely learn more about if the children of parents who weren’t rich in resources could reverse this cycle."
      ],
      "metadata": {
        "id": "HtgHCL-PQiwT"
      }
    },
    {
      "cell_type": "markdown",
      "source": [
        "# **3. Load the data using Pandas. Clean them up for EDA. Do this in a notebook with comments or markdown chunks explaining your choices.**"
      ],
      "metadata": {
        "id": "2j9N8vA7RHRi"
      }
    },
    {
      "cell_type": "code",
      "source": [
        "df = pd.read_csv(output_variables) #load data with my selected variables\n",
        "print(df.info()) #print data to ensure that the correct variables are selected and view variable information. We see that the variables match with our selected data.\n",
        "print(df.head()) #print first few rows of data"
      ],
      "metadata": {
        "colab": {
          "base_uri": "https://localhost:8080/"
        },
        "id": "PVlBoHXuU3d0",
        "outputId": "6773d796-b2b2-495c-e92c-725739c912ed"
      },
      "execution_count": 70,
      "outputs": [
        {
          "output_type": "stream",
          "name": "stdout",
          "text": [
            "<class 'pandas.core.frame.DataFrame'>\n",
            "RangeIndex: 72390 entries, 0 to 72389\n",
            "Data columns (total 9 columns):\n",
            " #   Column    Non-Null Count  Dtype  \n",
            "---  ------    --------------  -----  \n",
            " 0   papres16  22300 non-null  float64\n",
            " 1   mapres10  26352 non-null  float64\n",
            " 2   degree    72194 non-null  object \n",
            " 3   rincome   42333 non-null  object \n",
            " 4   hrs2      1401 non-null   float64\n",
            " 5   marital   72339 non-null  object \n",
            " 6   agewed    26543 non-null  float64\n",
            " 7   padeg     54509 non-null  object \n",
            " 8   madeg     63419 non-null  object \n",
            "dtypes: float64(4), object(5)\n",
            "memory usage: 5.0+ MB\n",
            "None\n",
            "   papres16  mapres10                 degree rincome  hrs2        marital  \\\n",
            "0      40.0       NaN             bachelor's     NaN   NaN  never married   \n",
            "1      50.0       NaN  less than high school     NaN   NaN        married   \n",
            "2      32.0       NaN            high school     NaN   NaN        married   \n",
            "3      72.0       NaN             bachelor's     NaN   NaN        married   \n",
            "4      48.0       NaN            high school     NaN   NaN        married   \n",
            "\n",
            "   agewed                  padeg                  madeg  \n",
            "0     NaN  less than high school                    NaN  \n",
            "1    21.0  less than high school  less than high school  \n",
            "2    20.0  less than high school  less than high school  \n",
            "3    24.0             bachelor's            high school  \n",
            "4    22.0  less than high school  less than high school  \n"
          ]
        }
      ]
    },
    {
      "cell_type": "markdown",
      "source": [
        "We see that there are many instances of missing data, especially within the mapres10, rincome, and hrs2 variables. To improve data quality, we want to drop rows with missing data."
      ],
      "metadata": {
        "id": "ZUH38M-LhXMU"
      }
    },
    {
      "cell_type": "code",
      "source": [
        "df = df.dropna(subset=['rincome', 'mapres10', 'hrs2']) #we want to drop rows with missing data, specifically in the mapres10, rincome, and hrs2 variables. If we drop all rows with missing data from each variable, the dataset may be empty (as there are many missing values).\n",
        "print(df.head()) #print the first 5 rows to examine changes\n"
      ],
      "metadata": {
        "colab": {
          "base_uri": "https://localhost:8080/"
        },
        "id": "vv0olK_BXRhL",
        "outputId": "e0fb5bf1-fdfc-4e4f-922a-45d60c7015c4"
      },
      "execution_count": 71,
      "outputs": [
        {
          "output_type": "stream",
          "name": "stdout",
          "text": [
            "       papres16  mapres10       degree           rincome  hrs2        marital  \\\n",
            "29432       NaN      48.0  high school  $1,000 to $2,999  50.0  never married   \n",
            "29495       NaN      38.0  high school  $3,000 to $3,999  20.0      separated   \n",
            "29529       NaN      69.0  high school   $25,000 or more  30.0        widowed   \n",
            "29660       NaN      28.0  high school   $25,000 or more  40.0       divorced   \n",
            "29781       NaN      64.0     graduate   $25,000 or more  40.0        married   \n",
            "\n",
            "       agewed                  padeg                  madeg  \n",
            "29432     NaN               graduate            high school  \n",
            "29495    18.0                    NaN                    NaN  \n",
            "29529    21.0                    NaN            high school  \n",
            "29660    17.0  less than high school  less than high school  \n",
            "29781     NaN            high school            high school  \n"
          ]
        }
      ]
    },
    {
      "cell_type": "markdown",
      "source": [
        "Next, we want to convert all numeric variables to floats, and all categorical variables to categories. This will allow us to further analyze the data."
      ],
      "metadata": {
        "id": "s--x_B82jOGF"
      }
    },
    {
      "cell_type": "code",
      "source": [
        "df['papres16'] = pd.to_numeric(df['papres16'], errors='coerce') #Convert numeric values\n",
        "df['mapres10'] = pd.to_numeric(df['mapres10'], errors='coerce')\n",
        "df['hrs2'] = pd.to_numeric(df['hrs2'], errors='coerce')\n",
        "df['agewed'] = pd.to_numeric(df['agewed'], errors='coerce')\n",
        "\n",
        "df['degree'] = df['degree'].astype('category') #Convert categorical variables\n",
        "df['rincome'] = df['rincome'].astype('category')\n",
        "df['marital'] = df['marital'].astype('category')\n",
        "df['padeg'] = df['padeg'].astype('category')\n",
        "df['madeg'] = df['madeg'].astype('category')\n",
        "\n",
        "print(df.dtypes) #Examine the datatypes to ensure accuracy\n"
      ],
      "metadata": {
        "colab": {
          "base_uri": "https://localhost:8080/"
        },
        "id": "QaSMafBMiy6A",
        "outputId": "bf826348-b116-489d-a970-c2fc9a845303"
      },
      "execution_count": 80,
      "outputs": [
        {
          "output_type": "stream",
          "name": "stdout",
          "text": [
            "papres16     float64\n",
            "mapres10     float64\n",
            "degree      category\n",
            "rincome     category\n",
            "hrs2         float64\n",
            "marital     category\n",
            "agewed       float64\n",
            "padeg       category\n",
            "madeg       category\n",
            "dtype: object\n"
          ]
        }
      ]
    },
    {
      "cell_type": "code",
      "source": [
        "df['degree'] = df['degree'].str.lower() #convert all strings to lowercase to ensure standardization\n",
        "df['rincome'] = df['rincome'].str.strip().str.lower()\n",
        "print(df.head())"
      ],
      "metadata": {
        "colab": {
          "base_uri": "https://localhost:8080/"
        },
        "id": "cthN0HE6j91V",
        "outputId": "9b516a52-f3db-4532-ab7c-e9409537c831"
      },
      "execution_count": 82,
      "outputs": [
        {
          "output_type": "stream",
          "name": "stdout",
          "text": [
            "       papres16  mapres10       degree           rincome  hrs2        marital  \\\n",
            "29432       NaN      48.0  high school  $1,000 to $2,999  50.0  never married   \n",
            "29495       NaN      38.0  high school  $3,000 to $3,999  20.0      separated   \n",
            "29529       NaN      69.0  high school   $25,000 or more  30.0        widowed   \n",
            "29660       NaN      28.0  high school   $25,000 or more  40.0       divorced   \n",
            "29781       NaN      64.0     graduate   $25,000 or more  40.0        married   \n",
            "\n",
            "       agewed                  padeg                  madeg  \n",
            "29432    19.0               graduate            high school  \n",
            "29495    18.0                    NaN                    NaN  \n",
            "29529    21.0                    NaN            high school  \n",
            "29660    17.0  less than high school  less than high school  \n",
            "29781    19.0            high school            high school  \n"
          ]
        }
      ]
    },
    {
      "cell_type": "markdown",
      "source": [
        "# **4. Produce some numeric summaries and visualizations. (1-3 pages)**"
      ],
      "metadata": {
        "id": "SsnOEt_lVKcH"
      }
    },
    {
      "cell_type": "code",
      "source": [
        "#Create visualizations\n",
        "\n",
        "#Create a histogram of age at marriage\n",
        "sns.histplot(df['agewed'], kde=True)\n",
        "plt.title('Distribution of Age Married')\n",
        "plt.xlabel('Age')\n",
        "plt.ylabel('Frequency')\n",
        "plt.show()\n",
        "\n",
        "#Create a\n",
        "sns.histplot(df['papres16'], kde=True, color='skyblue')\n",
        "plt.title('Distribution of papres16')\n",
        "plt.xlabel('papres16')\n",
        "plt.ylabel('Frequency')\n",
        "plt.show()"
      ],
      "metadata": {
        "colab": {
          "base_uri": "https://localhost:8080/",
          "height": 927
        },
        "id": "-ankKUbPbtKf",
        "outputId": "851a58d3-985b-44b2-dd24-845c99088e4a"
      },
      "execution_count": 89,
      "outputs": [
        {
          "output_type": "display_data",
          "data": {
            "text/plain": [
              "<Figure size 640x480 with 1 Axes>"
            ],
            "image/png": "[encoded data removed]"
          },
          "metadata": {}
        },
        {
          "output_type": "display_data",
          "data": {
            "text/plain": [
              "<Figure size 640x480 with 1 Axes>"
            ],
            "image/png": "[encoded data removed]"
          },
          "metadata": {}
        }
      ]
    }
  ],
  "metadata": {
    "language_info": {
      "name": "python"
    },
    "colab": {
      "provenance": []
    },
    "kernelspec": {
      "name": "python3",
      "display_name": "Python 3"
    }
  },
  "nbformat": 4,
  "nbformat_minor": 0
}